{
 "cells": [
  {
   "cell_type": "code",
   "execution_count": 6,
   "metadata": {},
   "outputs": [],
   "source": [
    "import pandas as pd\n",
    "import numpy as np\n",
    "import nltk\n",
    "import re\n",
    "from nltk.corpus import stopwords\n",
    "from nltk.stem.snowball import SnowballStemmer\n",
    "from nltk.stem import WordNetLemmatizer"
   ]
  },
  {
   "cell_type": "code",
   "execution_count": 2,
   "metadata": {},
   "outputs": [
    {
     "data": {
      "text/html": [
       "<div>\n",
       "<style scoped>\n",
       "    .dataframe tbody tr th:only-of-type {\n",
       "        vertical-align: middle;\n",
       "    }\n",
       "\n",
       "    .dataframe tbody tr th {\n",
       "        vertical-align: top;\n",
       "    }\n",
       "\n",
       "    .dataframe thead th {\n",
       "        text-align: right;\n",
       "    }\n",
       "</style>\n",
       "<table border=\"1\" class=\"dataframe\">\n",
       "  <thead>\n",
       "    <tr style=\"text-align: right;\">\n",
       "      <th></th>\n",
       "      <th>Column1</th>\n",
       "      <th>Column2</th>\n",
       "      <th>Column3</th>\n",
       "    </tr>\n",
       "  </thead>\n",
       "  <tbody>\n",
       "    <tr>\n",
       "      <th>0</th>\n",
       "      <td>tweet</td>\n",
       "      <td>existence</td>\n",
       "      <td>existence.confidence</td>\n",
       "    </tr>\n",
       "    <tr>\n",
       "      <th>1</th>\n",
       "      <td>Global warming report urges governments to act...</td>\n",
       "      <td>Yes</td>\n",
       "      <td>1</td>\n",
       "    </tr>\n",
       "    <tr>\n",
       "      <th>2</th>\n",
       "      <td>Fighting poverty and global warming in Africa ...</td>\n",
       "      <td>Yes</td>\n",
       "      <td>1</td>\n",
       "    </tr>\n",
       "    <tr>\n",
       "      <th>3</th>\n",
       "      <td>Carbon offsets: How a Vatican forest failed to...</td>\n",
       "      <td>Yes</td>\n",
       "      <td>0.8786</td>\n",
       "    </tr>\n",
       "    <tr>\n",
       "      <th>4</th>\n",
       "      <td>Carbon offsets: How a Vatican forest failed to...</td>\n",
       "      <td>Yes</td>\n",
       "      <td>1</td>\n",
       "    </tr>\n",
       "    <tr>\n",
       "      <th>...</th>\n",
       "      <td>...</td>\n",
       "      <td>...</td>\n",
       "      <td>...</td>\n",
       "    </tr>\n",
       "    <tr>\n",
       "      <th>6086</th>\n",
       "      <td>@bloodless_coup \"The phrase 'global warming' s...</td>\n",
       "      <td>Yes</td>\n",
       "      <td>1</td>\n",
       "    </tr>\n",
       "    <tr>\n",
       "      <th>6087</th>\n",
       "      <td>Virginia to Investigate Global Warming Scienti...</td>\n",
       "      <td>NaN</td>\n",
       "      <td>1</td>\n",
       "    </tr>\n",
       "    <tr>\n",
       "      <th>6088</th>\n",
       "      <td>Global warming you tube parody you will enjoy ...</td>\n",
       "      <td>No</td>\n",
       "      <td>0.6411</td>\n",
       "    </tr>\n",
       "    <tr>\n",
       "      <th>6089</th>\n",
       "      <td>One-Eyed Golfer: Don't dare tell me about glob...</td>\n",
       "      <td>No</td>\n",
       "      <td>1</td>\n",
       "    </tr>\n",
       "    <tr>\n",
       "      <th>6090</th>\n",
       "      <td>man made global warming a hair brained theory ...</td>\n",
       "      <td>No</td>\n",
       "      <td>1</td>\n",
       "    </tr>\n",
       "  </tbody>\n",
       "</table>\n",
       "<p>6091 rows × 3 columns</p>\n",
       "</div>"
      ],
      "text/plain": [
       "                                                Column1    Column2  \\\n",
       "0                                                 tweet  existence   \n",
       "1     Global warming report urges governments to act...        Yes   \n",
       "2     Fighting poverty and global warming in Africa ...        Yes   \n",
       "3     Carbon offsets: How a Vatican forest failed to...        Yes   \n",
       "4     Carbon offsets: How a Vatican forest failed to...        Yes   \n",
       "...                                                 ...        ...   \n",
       "6086  @bloodless_coup \"The phrase 'global warming' s...        Yes   \n",
       "6087  Virginia to Investigate Global Warming Scienti...        NaN   \n",
       "6088  Global warming you tube parody you will enjoy ...         No   \n",
       "6089  One-Eyed Golfer: Don't dare tell me about glob...         No   \n",
       "6090  man made global warming a hair brained theory ...         No   \n",
       "\n",
       "                   Column3  \n",
       "0     existence.confidence  \n",
       "1                        1  \n",
       "2                        1  \n",
       "3                   0.8786  \n",
       "4                        1  \n",
       "...                    ...  \n",
       "6086                     1  \n",
       "6087                     1  \n",
       "6088                0.6411  \n",
       "6089                     1  \n",
       "6090                     1  \n",
       "\n",
       "[6091 rows x 3 columns]"
      ]
     },
     "execution_count": 2,
     "metadata": {},
     "output_type": "execute_result"
    }
   ],
   "source": [
    "mensajesTwitter_sin_preparar = pd.read_csv(\"datas/calentamientoClimatico_sin_preparar.csv\", delimiter=\";\")\n",
    "mensajesTwitter_sin_preparar"
   ]
  },
  {
   "cell_type": "markdown",
   "metadata": {},
   "source": [
    "First, we chage the name of the columns and then, we delete the first row:"
   ]
  },
  {
   "cell_type": "code",
   "execution_count": 3,
   "metadata": {},
   "outputs": [
    {
     "data": {
      "text/html": [
       "<div>\n",
       "<style scoped>\n",
       "    .dataframe tbody tr th:only-of-type {\n",
       "        vertical-align: middle;\n",
       "    }\n",
       "\n",
       "    .dataframe tbody tr th {\n",
       "        vertical-align: top;\n",
       "    }\n",
       "\n",
       "    .dataframe thead th {\n",
       "        text-align: right;\n",
       "    }\n",
       "</style>\n",
       "<table border=\"1\" class=\"dataframe\">\n",
       "  <thead>\n",
       "    <tr style=\"text-align: right;\">\n",
       "      <th></th>\n",
       "      <th>Tweet</th>\n",
       "      <th>Existence</th>\n",
       "      <th>Confiance</th>\n",
       "    </tr>\n",
       "  </thead>\n",
       "  <tbody>\n",
       "    <tr>\n",
       "      <th>0</th>\n",
       "      <td>tweet</td>\n",
       "      <td>existence</td>\n",
       "      <td>existence.confidence</td>\n",
       "    </tr>\n",
       "    <tr>\n",
       "      <th>1</th>\n",
       "      <td>Global warming report urges governments to act...</td>\n",
       "      <td>Yes</td>\n",
       "      <td>1</td>\n",
       "    </tr>\n",
       "    <tr>\n",
       "      <th>2</th>\n",
       "      <td>Fighting poverty and global warming in Africa ...</td>\n",
       "      <td>Yes</td>\n",
       "      <td>1</td>\n",
       "    </tr>\n",
       "    <tr>\n",
       "      <th>3</th>\n",
       "      <td>Carbon offsets: How a Vatican forest failed to...</td>\n",
       "      <td>Yes</td>\n",
       "      <td>0.8786</td>\n",
       "    </tr>\n",
       "    <tr>\n",
       "      <th>4</th>\n",
       "      <td>Carbon offsets: How a Vatican forest failed to...</td>\n",
       "      <td>Yes</td>\n",
       "      <td>1</td>\n",
       "    </tr>\n",
       "    <tr>\n",
       "      <th>...</th>\n",
       "      <td>...</td>\n",
       "      <td>...</td>\n",
       "      <td>...</td>\n",
       "    </tr>\n",
       "    <tr>\n",
       "      <th>6086</th>\n",
       "      <td>@bloodless_coup \"The phrase 'global warming' s...</td>\n",
       "      <td>Yes</td>\n",
       "      <td>1</td>\n",
       "    </tr>\n",
       "    <tr>\n",
       "      <th>6087</th>\n",
       "      <td>Virginia to Investigate Global Warming Scienti...</td>\n",
       "      <td>NaN</td>\n",
       "      <td>1</td>\n",
       "    </tr>\n",
       "    <tr>\n",
       "      <th>6088</th>\n",
       "      <td>Global warming you tube parody you will enjoy ...</td>\n",
       "      <td>No</td>\n",
       "      <td>0.6411</td>\n",
       "    </tr>\n",
       "    <tr>\n",
       "      <th>6089</th>\n",
       "      <td>One-Eyed Golfer: Don't dare tell me about glob...</td>\n",
       "      <td>No</td>\n",
       "      <td>1</td>\n",
       "    </tr>\n",
       "    <tr>\n",
       "      <th>6090</th>\n",
       "      <td>man made global warming a hair brained theory ...</td>\n",
       "      <td>No</td>\n",
       "      <td>1</td>\n",
       "    </tr>\n",
       "  </tbody>\n",
       "</table>\n",
       "<p>6091 rows × 3 columns</p>\n",
       "</div>"
      ],
      "text/plain": [
       "                                                  Tweet  Existence  \\\n",
       "0                                                 tweet  existence   \n",
       "1     Global warming report urges governments to act...        Yes   \n",
       "2     Fighting poverty and global warming in Africa ...        Yes   \n",
       "3     Carbon offsets: How a Vatican forest failed to...        Yes   \n",
       "4     Carbon offsets: How a Vatican forest failed to...        Yes   \n",
       "...                                                 ...        ...   \n",
       "6086  @bloodless_coup \"The phrase 'global warming' s...        Yes   \n",
       "6087  Virginia to Investigate Global Warming Scienti...        NaN   \n",
       "6088  Global warming you tube parody you will enjoy ...         No   \n",
       "6089  One-Eyed Golfer: Don't dare tell me about glob...         No   \n",
       "6090  man made global warming a hair brained theory ...         No   \n",
       "\n",
       "                 Confiance  \n",
       "0     existence.confidence  \n",
       "1                        1  \n",
       "2                        1  \n",
       "3                   0.8786  \n",
       "4                        1  \n",
       "...                    ...  \n",
       "6086                     1  \n",
       "6087                     1  \n",
       "6088                0.6411  \n",
       "6089                     1  \n",
       "6090                     1  \n",
       "\n",
       "[6091 rows x 3 columns]"
      ]
     },
     "execution_count": 3,
     "metadata": {},
     "output_type": "execute_result"
    }
   ],
   "source": [
    "mensajesTwitter_sin_preparar=mensajesTwitter_sin_preparar.rename(columns={'Column1': 'Tweet', 'Column2':'Existence', 'Column3':'Confiance'})\n",
    "mensajesTwitter_sin_preparar"
   ]
  },
  {
   "cell_type": "code",
   "execution_count": 4,
   "metadata": {},
   "outputs": [],
   "source": [
    "mensajesTwitter_sin_preparar=mensajesTwitter_sin_preparar.drop(0)"
   ]
  },
  {
   "cell_type": "markdown",
   "metadata": {},
   "source": [
    "Now, we need to ger rid of all the missing values:"
   ]
  },
  {
   "cell_type": "code",
   "execution_count": 5,
   "metadata": {},
   "outputs": [
    {
     "data": {
      "text/html": [
       "<div>\n",
       "<style scoped>\n",
       "    .dataframe tbody tr th:only-of-type {\n",
       "        vertical-align: middle;\n",
       "    }\n",
       "\n",
       "    .dataframe tbody tr th {\n",
       "        vertical-align: top;\n",
       "    }\n",
       "\n",
       "    .dataframe thead th {\n",
       "        text-align: right;\n",
       "    }\n",
       "</style>\n",
       "<table border=\"1\" class=\"dataframe\">\n",
       "  <thead>\n",
       "    <tr style=\"text-align: right;\">\n",
       "      <th></th>\n",
       "      <th>Tweet</th>\n",
       "      <th>Existence</th>\n",
       "      <th>Confiance</th>\n",
       "    </tr>\n",
       "  </thead>\n",
       "  <tbody>\n",
       "    <tr>\n",
       "      <th>1</th>\n",
       "      <td>Global warming report urges governments to act...</td>\n",
       "      <td>Yes</td>\n",
       "      <td>1</td>\n",
       "    </tr>\n",
       "    <tr>\n",
       "      <th>2</th>\n",
       "      <td>Fighting poverty and global warming in Africa ...</td>\n",
       "      <td>Yes</td>\n",
       "      <td>1</td>\n",
       "    </tr>\n",
       "    <tr>\n",
       "      <th>3</th>\n",
       "      <td>Carbon offsets: How a Vatican forest failed to...</td>\n",
       "      <td>Yes</td>\n",
       "      <td>0.8786</td>\n",
       "    </tr>\n",
       "    <tr>\n",
       "      <th>4</th>\n",
       "      <td>Carbon offsets: How a Vatican forest failed to...</td>\n",
       "      <td>Yes</td>\n",
       "      <td>1</td>\n",
       "    </tr>\n",
       "    <tr>\n",
       "      <th>5</th>\n",
       "      <td>URUGUAY: Tools Needed for Those Most Vulnerabl...</td>\n",
       "      <td>Yes</td>\n",
       "      <td>0.8087</td>\n",
       "    </tr>\n",
       "    <tr>\n",
       "      <th>...</th>\n",
       "      <td>...</td>\n",
       "      <td>...</td>\n",
       "      <td>...</td>\n",
       "    </tr>\n",
       "    <tr>\n",
       "      <th>6085</th>\n",
       "      <td>It's 83�_� and climbing in NYC. August weather...</td>\n",
       "      <td>Yes</td>\n",
       "      <td>1</td>\n",
       "    </tr>\n",
       "    <tr>\n",
       "      <th>6086</th>\n",
       "      <td>@bloodless_coup \"The phrase 'global warming' s...</td>\n",
       "      <td>Yes</td>\n",
       "      <td>1</td>\n",
       "    </tr>\n",
       "    <tr>\n",
       "      <th>6088</th>\n",
       "      <td>Global warming you tube parody you will enjoy ...</td>\n",
       "      <td>No</td>\n",
       "      <td>0.6411</td>\n",
       "    </tr>\n",
       "    <tr>\n",
       "      <th>6089</th>\n",
       "      <td>One-Eyed Golfer: Don't dare tell me about glob...</td>\n",
       "      <td>No</td>\n",
       "      <td>1</td>\n",
       "    </tr>\n",
       "    <tr>\n",
       "      <th>6090</th>\n",
       "      <td>man made global warming a hair brained theory ...</td>\n",
       "      <td>No</td>\n",
       "      <td>1</td>\n",
       "    </tr>\n",
       "  </tbody>\n",
       "</table>\n",
       "<p>4225 rows × 3 columns</p>\n",
       "</div>"
      ],
      "text/plain": [
       "                                                  Tweet Existence Confiance\n",
       "1     Global warming report urges governments to act...       Yes         1\n",
       "2     Fighting poverty and global warming in Africa ...       Yes         1\n",
       "3     Carbon offsets: How a Vatican forest failed to...       Yes    0.8786\n",
       "4     Carbon offsets: How a Vatican forest failed to...       Yes         1\n",
       "5     URUGUAY: Tools Needed for Those Most Vulnerabl...       Yes    0.8087\n",
       "...                                                 ...       ...       ...\n",
       "6085  It's 83�_� and climbing in NYC. August weather...       Yes         1\n",
       "6086  @bloodless_coup \"The phrase 'global warming' s...       Yes         1\n",
       "6088  Global warming you tube parody you will enjoy ...        No    0.6411\n",
       "6089  One-Eyed Golfer: Don't dare tell me about glob...        No         1\n",
       "6090  man made global warming a hair brained theory ...        No         1\n",
       "\n",
       "[4225 rows x 3 columns]"
      ]
     },
     "execution_count": 5,
     "metadata": {},
     "output_type": "execute_result"
    }
   ],
   "source": [
    "mensajesTwitter_sin_preparar=mensajesTwitter_sin_preparar.dropna()\n",
    "mensajesTwitter_sin_preparar"
   ]
  },
  {
   "cell_type": "markdown",
   "metadata": {},
   "source": [
    "Once we have cleaned up the database, we can now start with the process of reading"
   ]
  },
  {
   "cell_type": "code",
   "execution_count": 7,
   "metadata": {},
   "outputs": [
    {
     "name": "stderr",
     "output_type": "stream",
     "text": [
      "[nltk_data] Downloading package stopwords to /Users/mariaperez-\n",
      "[nltk_data]     serrabona/nltk_data...\n",
      "[nltk_data]   Package stopwords is already up-to-date!\n",
      "[nltk_data] Downloading package wordnet to /Users/mariaperez-\n",
      "[nltk_data]     serrabona/nltk_data...\n",
      "[nltk_data]   Package wordnet is already up-to-date!\n"
     ]
    },
    {
     "data": {
      "text/plain": [
       "True"
      ]
     },
     "execution_count": 7,
     "metadata": {},
     "output_type": "execute_result"
    }
   ],
   "source": [
    "#we download from the libraries the needed files to read and interpret the phraes:\n",
    "\n",
    "nltk.download('stopwords')\n",
    "nltk.download('wordnet')"
   ]
  },
  {
   "cell_type": "markdown",
   "metadata": {},
   "source": [
    "change the Existence column by putting numerical values instead of categorical values"
   ]
  },
  {
   "cell_type": "code",
   "execution_count": 8,
   "metadata": {},
   "outputs": [
    {
     "name": "stdout",
     "output_type": "stream",
     "text": [
      "                                                 Tweet  Existence Confiance\n",
      "1    Global warming report urges governments to act...          1         1\n",
      "2    Fighting poverty and global warming in Africa ...          1         1\n",
      "3    Carbon offsets: How a Vatican forest failed to...          1    0.8786\n",
      "4    Carbon offsets: How a Vatican forest failed to...          1         1\n",
      "5    URUGUAY: Tools Needed for Those Most Vulnerabl...          1    0.8087\n",
      "..                                                 ...        ...       ...\n",
      "135  Report: Save the Whales and They'll Save Us fr...          1     0.823\n",
      "137  Arctic Beauty in Black and White: Alaska Befor...          1         1\n",
      "138  #EPA report documents \"very real\" impacts from...          1         1\n",
      "139  #Canadian #CEOs more keen on #green than globa...          1    0.7896\n",
      "140  RT @carbonmarket: Ask the G8 & G20 to support ...          1     0.617\n",
      "\n",
      "[100 rows x 3 columns]\n"
     ]
    }
   ],
   "source": [
    "mensajesTwitter_sin_preparar['Existence'] = (mensajesTwitter_sin_preparar['Existence']=='Yes').astype(int)\n",
    "print(mensajesTwitter_sin_preparar.head(100))"
   ]
  },
  {
   "cell_type": "markdown",
   "metadata": {},
   "source": [
    "Now, we can create a function called normalization which will normalize the phrases.\n",
    "This means, the function will enable the research of specific characters, so we can then treat them a specific process.\n",
    "\n",
    "The re function, will change those pecial characters to normal characters. For instance, a link character will be change to a single word 'URL'\n",
    "It will also change accents and capital letters."
   ]
  },
  {
   "cell_type": "code",
   "execution_count": 9,
   "metadata": {},
   "outputs": [],
   "source": [
    "def normalization(mensage):\n",
    "    mensage = re.sub('((www\\.[^\\s]+)|(https?://[^\\s]+))','URL', mensage)\n",
    "    mensage = re.sub('@[^\\s]+','USER', mensage)\n",
    "    mensage = mensage.lower().replace(\"ё\", \"е\")\n",
    "    mensage = re.sub('[^a-zA-Zа-яА-Я1-9]+', ' ', mensage)\n",
    "    mensage = re.sub(' +',' ', mensage)\n",
    "    return mensage.strip()"
   ]
  },
  {
   "cell_type": "code",
   "execution_count": 10,
   "metadata": {},
   "outputs": [
    {
     "name": "stdout",
     "output_type": "stream",
     "text": [
      "                                                Tweet  Existence Confiance\n",
      "1   global warming report urges governments to act...          1         1\n",
      "2   fighting poverty and global warming in africa ...          1         1\n",
      "3   carbon offsets how a vatican forest failed to ...          1    0.8786\n",
      "4   carbon offsets how a vatican forest failed to ...          1         1\n",
      "5   uruguay tools needed for those most vulnerable...          1    0.8087\n",
      "6   rt user rt user ocean saltiness shows global w...          1         1\n",
      "7   global warming evidence all around us a messag...          1         1\n",
      "8   migratory birds new climate change strategy st...          1         1\n",
      "9   southern africa competing for limpopo water cl...          1         1\n",
      "10  global warming to impact wheat rice production...          1         1\n"
     ]
    }
   ],
   "source": [
    "#we now apply the function above:\n",
    "\n",
    "mensajesTwitter_sin_preparar[\"Tweet\"] = mensajesTwitter_sin_preparar[\"Tweet\"].apply(normalization)\n",
    "print(mensajesTwitter_sin_preparar.head(10))"
   ]
  },
  {
   "cell_type": "markdown",
   "metadata": {},
   "source": [
    "Now, we start treating the stop words we have in Englsish"
   ]
  },
  {
   "cell_type": "code",
   "execution_count": 11,
   "metadata": {},
   "outputs": [],
   "source": [
    "stopWords = stopwords.words('english')"
   ]
  },
  {
   "cell_type": "code",
   "execution_count": 12,
   "metadata": {},
   "outputs": [
    {
     "name": "stdout",
     "output_type": "stream",
     "text": [
      "                                                Tweet  Existence Confiance\n",
      "1   global warming report urges governments act br...          1         1\n",
      "2         fighting poverty global warming africa link          1         1\n",
      "3   carbon offsets vatican forest failed reduce gl...          1    0.8786\n",
      "4   carbon offsets vatican forest failed reduce gl...          1         1\n",
      "5   uruguay tools needed vulnerable climate change...          1    0.8087\n",
      "6   rt user rt user ocean saltiness shows global w...          1         1\n",
      "7   global warming evidence around us message glob...          1         1\n",
      "8   migratory birds new climate change strategy st...          1         1\n",
      "9   southern africa competing limpopo water climat...          1         1\n",
      "10  global warming impact wheat rice production in...          1         1\n"
     ]
    }
   ],
   "source": [
    "#Now that we know which the stop words are, we can delet them:\n",
    "\n",
    "mensajesTwitter_sin_preparar['Tweet'] = mensajesTwitter_sin_preparar['Tweet'].apply(lambda mensage: ' '.join([word for word in mensage.split() if word not in (stopWords)]))\n",
    "print(mensajesTwitter_sin_preparar.head(10))"
   ]
  },
  {
   "cell_type": "code",
   "execution_count": null,
   "metadata": {},
   "outputs": [],
   "source": []
  }
 ],
 "metadata": {
  "kernelspec": {
   "display_name": "Python 3.8.8 ('base')",
   "language": "python",
   "name": "python3"
  },
  "language_info": {
   "codemirror_mode": {
    "name": "ipython",
    "version": 3
   },
   "file_extension": ".py",
   "mimetype": "text/x-python",
   "name": "python",
   "nbconvert_exporter": "python",
   "pygments_lexer": "ipython3",
   "version": "3.8.8"
  },
  "orig_nbformat": 4,
  "vscode": {
   "interpreter": {
    "hash": "2557d792bcc548040964ef9344858eb612ff88f5aef6e765f7d8cb59c813e37b"
   }
  }
 },
 "nbformat": 4,
 "nbformat_minor": 2
}
